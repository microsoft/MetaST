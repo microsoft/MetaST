{
 "cells": [
  {
   "cell_type": "markdown",
   "metadata": {},
   "source": [
    "# Data uploading\n",
    "We provide a sample notebook for uploading you local data into azure blob"
   ]
  },
  {
   "cell_type": "code",
   "execution_count": 1,
   "metadata": {},
   "outputs": [
    {
     "name": "stdout",
     "output_type": "stream",
     "text": [
      "SDK version: 1.0.85\n"
     ]
    }
   ],
   "source": [
    "import azureml.core\n",
    "print(\"SDK version:\", azureml.core.VERSION)"
   ]
  },
  {
   "cell_type": "markdown",
   "metadata": {},
   "source": [
    "## Connect to Workspace and select gpu cluster\n",
    "if there is not existing cluster, create one"
   ]
  },
  {
   "cell_type": "code",
   "execution_count": 2,
   "metadata": {},
   "outputs": [
    {
     "name": "stdout",
     "output_type": "stream",
     "text": [
      "Library configuration succeeded\n",
      "https://ms.portal.azure.com/#@microsoft.onmicrosoft.com/resource/subscriptions/4a66f470-dd54-4c5e-bd19-8cb65a426003/resourceGroups/AML_Playground/providers/Microsoft.MachineLearningServices/workspaces/Teams_ws\n"
     ]
    }
   ],
   "source": [
    "from azureml.core import Workspace\n",
    "\n",
    "subscription_id = \"4a66f470-dd54-4c5e-bd19-8cb65a426003\"\n",
    "resource_group  = \"AML_Playground\"\n",
    "workspace_name  = \"Teams_ws\"\n",
    "\n",
    "#subscription_id = \"ddb33dc4-889c-4fa1-90ce-482d793d6480\"\n",
    "#resource_group = \"DevExp\"\n",
    "#workspace_name = \"DevExperimentation\"\n",
    "try:\n",
    "    ws = Workspace(subscription_id = subscription_id, resource_group = resource_group, workspace_name = workspace_name)\n",
    "    ws.write_config()\n",
    "    print('Library configuration succeeded')\n",
    "    print('https://ms.portal.azure.com/#@microsoft.onmicrosoft.com/resource' + ws.get_details()['id'])\n",
    "except:\n",
    "    print('Workspace not found')"
   ]
  },
  {
   "cell_type": "markdown",
   "metadata": {},
   "source": [
    "## Connect to Datastore and upload local data\n",
    "When you have large data and model, you need to create one seperate Datastore.\n",
    "\n",
    "If not, AML will have error when uploading you local repo and you can't track your outputs.\n",
    "\n",
    "Each workspace is associated with a default Azure Blob datastore named 'workspaceblobstore'. You can also register your own blob into this workspace if you follow the procedure here:\n",
    "\n",
    "\n",
    "\n",
    "https://microsoft.sharepoint.com/teams/CortanaCore/_layouts/OneNote.aspx?id=%2Fteams%2FCortanaCore%2FShared%20Documents%2FCore%20Science%2FCortana%20Core%20Science&wd=target%28LU%20Modeling%20and%20Partners%2FCommunication.one%7C05355131-D153-4B5E-953B-C6C8330AECD7%2FAzure%20ML%20storage%20account%7C614E6919-6DB6-40A2-AEA1-0F442B02CB96%2F%29\n",
    "onenote:https://microsoft.sharepoint.com/teams/CortanaCore/Shared%20Documents/Core%20Science/Cortana%20Core%20Science/LU%20Modeling%20and%20Partners/Communication.one#Azure%20ML%20storage%20account&section-id={05355131-D153-4B5E-953B-C6C8330AECD7}&page-id={614E6919-6DB6-40A2-AEA1-0F442B02CB96}&end"
   ]
  },
  {
   "cell_type": "code",
   "execution_count": 5,
   "metadata": {},
   "outputs": [],
   "source": [
    "from azureml.core import Workspace,Datastore \n",
    "\n",
    "ds = Datastore.get(ws, datastore_name='eran') "
   ]
  },
  {
   "cell_type": "code",
   "execution_count": null,
   "metadata": {},
   "outputs": [],
   "source": []
  },
  {
   "cell_type": "code",
   "execution_count": null,
   "metadata": {},
   "outputs": [],
   "source": [
    "#upload local folder into azure datastore\n",
    "path_on_datastore = 'datasets/Teams_communication'\n",
    "ds_data_communication = ds.path(path_on_datastore)\n",
    "ds.upload(src_dir=r'D:\\dl_repo\\Data_model\\Communication_data', ## A local folder which contains all of the data\n",
    "          target_path= path_on_datastore,\n",
    "          overwrite=False,\n",
    "          show_progress=True)"
   ]
  },
  {
   "cell_type": "markdown",
   "metadata": {},
   "source": [
    "## Download data\n",
    "\n",
    "Download folder from azure to local machine"
   ]
  },
  {
   "cell_type": "code",
   "execution_count": 7,
   "metadata": {},
   "outputs": [
    {
     "name": "stdout",
     "output_type": "stream",
     "text": [
      "Downloading datasets/Communication_prod_data/BIO-tags.txt\n",
      "Downloading datasets/Communication_prod_data/Mustpass.txt\n",
      "Downloading datasets/Communication_prod_data/Mustpass_full.txt\n",
      "Downloading datasets/Communication_prod_data/communication_slot_train.txt\n",
      "Downloading datasets/Communication_prod_data/communication_slot_train_3_15.txt\n",
      "Downloading datasets/Communication_prod_data/sampled_target_set.txt\n",
      "Downloading datasets/Communication_prod_data/target_set.txt\n",
      "Downloading datasets/Communication_prod_data/test.txt\n",
      "Downloading datasets/Communication_prod_data/valid_Jan.txt\n",
      "Downloading datasets/Communication_prod_data/valid_dec.txt\n",
      "Downloading datasets/Communication_prod_data/valid_merged.txt\n",
      "Downloaded datasets/Communication_prod_data/BIO-tags.txt, 1 files out of an estimated total of 11\n",
      "Downloaded datasets/Communication_prod_data/Mustpass.txt, 2 files out of an estimated total of 11\n",
      "Downloaded datasets/Communication_prod_data/Mustpass_full.txt, 3 files out of an estimated total of 11\n",
      "Downloaded datasets/Communication_prod_data/valid_Jan.txt, 4 files out of an estimated total of 11\n",
      "Downloaded datasets/Communication_prod_data/valid_dec.txt, 5 files out of an estimated total of 11\n",
      "Downloaded datasets/Communication_prod_data/test.txt, 6 files out of an estimated total of 11\n",
      "Downloaded datasets/Communication_prod_data/sampled_target_set.txt, 7 files out of an estimated total of 11\n",
      "Downloaded datasets/Communication_prod_data/target_set.txt, 8 files out of an estimated total of 11\n",
      "Downloaded datasets/Communication_prod_data/valid_merged.txt, 9 files out of an estimated total of 11\n",
      "Downloaded datasets/Communication_prod_data/communication_slot_train_3_15.txt, 10 files out of an estimated total of 11\n",
      "Downloaded datasets/Communication_prod_data/communication_slot_train.txt, 11 files out of an estimated total of 11\n"
     ]
    },
    {
     "data": {
      "text/plain": [
       "11"
      ]
     },
     "execution_count": 7,
     "metadata": {},
     "output_type": "execute_result"
    }
   ],
   "source": [
    "from azureml.core import Workspace,Datastore \n",
    "\n",
    "ds_default = ws.get_default_datastore() ##get the default datastore which contains the training data\n",
    "\n",
    "local_target_path = 'local/dowloads'\n",
    "ds_default.download(local_target_path, \n",
    "                  prefix=f'datasets/Communication_prod_data',  # To specify a path to the folder in the file share (or blob container) to download\n",
    "                  overwrite=False, \n",
    "                  show_progress=True)"
   ]
  },
  {
   "cell_type": "markdown",
   "metadata": {},
   "source": [
    "## Register new datastore\n",
    "\n",
    "An alternative approach to register new datastore through python sdk, we can skip this step since we already registered it in aml portal\n"
   ]
  },
  {
   "cell_type": "code",
   "execution_count": 6,
   "metadata": {},
   "outputs": [
    {
     "name": "stderr",
     "output_type": "stream",
     "text": [
      "WARNING - Datastore name BERT_Preprocessed_Data contains capital letters. They will be converted to lowercase letters.\n",
      "ERROR - Registering datastore failed with a 400 error code and error message 'Invalid account key. Should be base-64 encoded value'\n"
     ]
    },
    {
     "ename": "ErrorResponseException",
     "evalue": "(Invalid) Invalid account key. Should be base-64 encoded value",
     "output_type": "error",
     "traceback": [
      "\u001b[1;31m---------------------------------------------------------------------------\u001b[0m",
      "\u001b[1;31mErrorResponseException\u001b[0m                    Traceback (most recent call last)",
      "\u001b[1;32m<ipython-input-6-468775845112>\u001b[0m in \u001b[0;36m<module>\u001b[1;34m\u001b[0m\n\u001b[0;32m      4\u001b[0m                                              \u001b[0mcontainer_name\u001b[0m\u001b[1;33m=\u001b[0m\u001b[1;34m'data'\u001b[0m\u001b[1;33m,\u001b[0m\u001b[1;33m\u001b[0m\u001b[1;33m\u001b[0m\u001b[0m\n\u001b[0;32m      5\u001b[0m                                              \u001b[0maccount_name\u001b[0m\u001b[1;33m=\u001b[0m\u001b[1;34m'<name goes here>'\u001b[0m\u001b[1;33m,\u001b[0m\u001b[1;33m\u001b[0m\u001b[1;33m\u001b[0m\u001b[0m\n\u001b[1;32m----> 6\u001b[1;33m                                              \u001b[0maccount_key\u001b[0m\u001b[1;33m=\u001b[0m\u001b[1;34m'<key goes here>'\u001b[0m\u001b[1;33m\u001b[0m\u001b[1;33m\u001b[0m\u001b[0m\n\u001b[0m\u001b[0;32m      7\u001b[0m                                             )\n\u001b[0;32m      8\u001b[0m \u001b[1;33m\u001b[0m\u001b[0m\n",
      "\u001b[1;32mc:\\users\\chuha\\anaconda3\\envs\\allennlp\\lib\\site-packages\\azureml\\core\\datastore.py\u001b[0m in \u001b[0;36mregister_azure_blob_container\u001b[1;34m(workspace, datastore_name, container_name, account_name, sas_token, account_key, protocol, endpoint, overwrite, create_if_not_exists, skip_validation, blob_cache_timeout, grant_workspace_access, subscription_id, resource_group)\u001b[0m\n\u001b[0;32m    208\u001b[0m             \u001b[0mgrant_workspace_access\u001b[0m\u001b[1;33m=\u001b[0m\u001b[0mgrant_workspace_access\u001b[0m\u001b[1;33m,\u001b[0m\u001b[1;33m\u001b[0m\u001b[1;33m\u001b[0m\u001b[0m\n\u001b[0;32m    209\u001b[0m             \u001b[0msubscription_id\u001b[0m\u001b[1;33m=\u001b[0m\u001b[0msubscription_id\u001b[0m\u001b[1;33m,\u001b[0m\u001b[1;33m\u001b[0m\u001b[1;33m\u001b[0m\u001b[0m\n\u001b[1;32m--> 210\u001b[1;33m             \u001b[0mresource_group\u001b[0m\u001b[1;33m=\u001b[0m\u001b[0mresource_group\u001b[0m\u001b[1;33m,\u001b[0m\u001b[1;33m\u001b[0m\u001b[1;33m\u001b[0m\u001b[0m\n\u001b[0m\u001b[0;32m    211\u001b[0m         )\n\u001b[0;32m    212\u001b[0m \u001b[1;33m\u001b[0m\u001b[0m\n",
      "\u001b[1;32mc:\\users\\chuha\\anaconda3\\envs\\allennlp\\lib\\site-packages\\azureml\\data\\datastore_client.py\u001b[0m in \u001b[0;36mregister_azure_blob_container\u001b[1;34m(workspace, datastore_name, container_name, account_name, sas_token, account_key, protocol, endpoint, overwrite, create_if_not_exists, skip_validation, blob_cache_timeout, grant_workspace_access, subscription_id, resource_group)\u001b[0m\n\u001b[0;32m    236\u001b[0m             \u001b[0mgrant_workspace_access\u001b[0m\u001b[1;33m=\u001b[0m\u001b[0mgrant_workspace_access\u001b[0m\u001b[1;33m,\u001b[0m\u001b[1;33m\u001b[0m\u001b[1;33m\u001b[0m\u001b[0m\n\u001b[0;32m    237\u001b[0m             \u001b[0msubscription_id\u001b[0m\u001b[1;33m=\u001b[0m\u001b[0msubscription_id\u001b[0m\u001b[1;33m,\u001b[0m\u001b[1;33m\u001b[0m\u001b[1;33m\u001b[0m\u001b[0m\n\u001b[1;32m--> 238\u001b[1;33m             \u001b[0mresource_group\u001b[0m\u001b[1;33m=\u001b[0m\u001b[0mresource_group\u001b[0m\u001b[1;33m,\u001b[0m\u001b[1;33m\u001b[0m\u001b[1;33m\u001b[0m\u001b[0m\n\u001b[0m\u001b[0;32m    239\u001b[0m         )\n\u001b[0;32m    240\u001b[0m \u001b[1;33m\u001b[0m\u001b[0m\n",
      "\u001b[1;32mc:\\users\\chuha\\anaconda3\\envs\\allennlp\\lib\\site-packages\\azureml\\data\\datastore_client.py\u001b[0m in \u001b[0;36m_register_azure_storage\u001b[1;34m(ws, datastore_name, storage_type, container_name, account_name, credential_type, credential, protocol, endpoint, overwrite, create_if_not_exists, skip_validation, auth, host, blob_cache_timeout, grant_workspace_access, subscription_id, resource_group)\u001b[0m\n\u001b[0;32m    556\u001b[0m         \u001b[0mmodule_logger\u001b[0m\u001b[1;33m.\u001b[0m\u001b[0mdebug\u001b[0m\u001b[1;33m(\u001b[0m\u001b[1;34m\"Converted data into DTO\"\u001b[0m\u001b[1;33m)\u001b[0m\u001b[1;33m\u001b[0m\u001b[1;33m\u001b[0m\u001b[0m\n\u001b[0;32m    557\u001b[0m         return _DatastoreClient._register(ws=ws, dto=datastore, create_if_not_exists=create_if_not_exists,\n\u001b[1;32m--> 558\u001b[1;33m                                           skip_validation=skip_validation, overwrite=overwrite, auth=auth, host=host)\n\u001b[0m\u001b[0;32m    559\u001b[0m \u001b[1;33m\u001b[0m\u001b[0m\n\u001b[0;32m    560\u001b[0m     \u001b[1;33m@\u001b[0m\u001b[0mstaticmethod\u001b[0m\u001b[1;33m\u001b[0m\u001b[1;33m\u001b[0m\u001b[0m\n",
      "\u001b[1;32mc:\\users\\chuha\\anaconda3\\envs\\allennlp\\lib\\site-packages\\azureml\\data\\datastore_client.py\u001b[0m in \u001b[0;36m_register\u001b[1;34m(ws, dto, create_if_not_exists, skip_validation, overwrite, auth, host)\u001b[0m\n\u001b[0;32m    673\u001b[0m                 module_logger.error(\"Registering datastore failed with a {} error code and error message '{}'\"\n\u001b[0;32m    674\u001b[0m                                     .format(e.response.status_code, _DatastoreClient._get_http_exception_message(e)))\n\u001b[1;32m--> 675\u001b[1;33m                 \u001b[1;32mraise\u001b[0m \u001b[0me\u001b[0m\u001b[1;33m\u001b[0m\u001b[1;33m\u001b[0m\u001b[0m\n\u001b[0m\u001b[0;32m    676\u001b[0m \u001b[1;33m\u001b[0m\u001b[0m\n\u001b[0;32m    677\u001b[0m         \u001b[1;32mreturn\u001b[0m \u001b[0m_DatastoreClient\u001b[0m\u001b[1;33m.\u001b[0m\u001b[0m_get\u001b[0m\u001b[1;33m(\u001b[0m\u001b[0mws\u001b[0m\u001b[1;33m,\u001b[0m \u001b[0mdto\u001b[0m\u001b[1;33m.\u001b[0m\u001b[0mname\u001b[0m\u001b[1;33m,\u001b[0m \u001b[0mauth\u001b[0m\u001b[1;33m,\u001b[0m \u001b[0mhost\u001b[0m\u001b[1;33m)\u001b[0m\u001b[1;33m\u001b[0m\u001b[1;33m\u001b[0m\u001b[0m\n",
      "\u001b[1;32mc:\\users\\chuha\\anaconda3\\envs\\allennlp\\lib\\site-packages\\azureml\\data\\datastore_client.py\u001b[0m in \u001b[0;36m_register\u001b[1;34m(ws, dto, create_if_not_exists, skip_validation, overwrite, auth, host)\u001b[0m\n\u001b[0;32m    660\u001b[0m             client.data_stores.create(ws._subscription_id, ws._resource_group, ws._workspace_name,\n\u001b[0;32m    661\u001b[0m                                       \u001b[0mdto\u001b[0m\u001b[1;33m,\u001b[0m \u001b[0mcreate_if_not_exists\u001b[0m\u001b[1;33m,\u001b[0m \u001b[0mskip_validation\u001b[0m\u001b[1;33m,\u001b[0m\u001b[1;33m\u001b[0m\u001b[1;33m\u001b[0m\u001b[0m\n\u001b[1;32m--> 662\u001b[1;33m                                       custom_headers=_DatastoreClient._custom_headers)\n\u001b[0m\u001b[0;32m    663\u001b[0m         \u001b[1;32mexcept\u001b[0m \u001b[0mHttpOperationError\u001b[0m \u001b[1;32mas\u001b[0m \u001b[0me\u001b[0m\u001b[1;33m:\u001b[0m\u001b[1;33m\u001b[0m\u001b[1;33m\u001b[0m\u001b[0m\n\u001b[0;32m    664\u001b[0m             \u001b[1;32mif\u001b[0m \u001b[0me\u001b[0m\u001b[1;33m.\u001b[0m\u001b[0mresponse\u001b[0m\u001b[1;33m.\u001b[0m\u001b[0mstatus_code\u001b[0m \u001b[1;33m==\u001b[0m \u001b[1;36m400\u001b[0m \u001b[1;32mand\u001b[0m \u001b[0moverwrite\u001b[0m \u001b[1;32mand\u001b[0m \u001b[0mCONFLICT_MESSAGE\u001b[0m \u001b[1;32min\u001b[0m \u001b[0me\u001b[0m\u001b[1;33m.\u001b[0m\u001b[0mmessage\u001b[0m\u001b[1;33m:\u001b[0m\u001b[1;33m\u001b[0m\u001b[1;33m\u001b[0m\u001b[0m\n",
      "\u001b[1;32mc:\\users\\chuha\\anaconda3\\envs\\allennlp\\lib\\site-packages\\azureml\\_restclient\\operations\\data_stores_operations.py\u001b[0m in \u001b[0;36mcreate\u001b[1;34m(self, subscription_id, resource_group_name, workspace_name, dto, create_if_not_exists, skip_validation, custom_headers, raw, **operation_config)\u001b[0m\n\u001b[0;32m    177\u001b[0m \u001b[1;33m\u001b[0m\u001b[0m\n\u001b[0;32m    178\u001b[0m         \u001b[1;32mif\u001b[0m \u001b[0mresponse\u001b[0m\u001b[1;33m.\u001b[0m\u001b[0mstatus_code\u001b[0m \u001b[1;32mnot\u001b[0m \u001b[1;32min\u001b[0m \u001b[1;33m[\u001b[0m\u001b[1;36m200\u001b[0m\u001b[1;33m]\u001b[0m\u001b[1;33m:\u001b[0m\u001b[1;33m\u001b[0m\u001b[1;33m\u001b[0m\u001b[0m\n\u001b[1;32m--> 179\u001b[1;33m             \u001b[1;32mraise\u001b[0m \u001b[0mmodels\u001b[0m\u001b[1;33m.\u001b[0m\u001b[0mErrorResponseException\u001b[0m\u001b[1;33m(\u001b[0m\u001b[0mself\u001b[0m\u001b[1;33m.\u001b[0m\u001b[0m_deserialize\u001b[0m\u001b[1;33m,\u001b[0m \u001b[0mresponse\u001b[0m\u001b[1;33m)\u001b[0m\u001b[1;33m\u001b[0m\u001b[1;33m\u001b[0m\u001b[0m\n\u001b[0m\u001b[0;32m    180\u001b[0m \u001b[1;33m\u001b[0m\u001b[0m\n\u001b[0;32m    181\u001b[0m         \u001b[1;32mif\u001b[0m \u001b[0mraw\u001b[0m\u001b[1;33m:\u001b[0m\u001b[1;33m\u001b[0m\u001b[1;33m\u001b[0m\u001b[0m\n",
      "\u001b[1;31mErrorResponseException\u001b[0m: (Invalid) Invalid account key. Should be base-64 encoded value"
     ]
    }
   ],
   "source": [
    "# Register the datastore with the workspace\n",
    "ds = Datastore.register_azure_blob_container(workspace=ws, \n",
    "                                             datastore_name='BERT_Preprocessed_Data',\n",
    "                                             container_name='data',\n",
    "                                             account_name='<name goes here>', \n",
    "                                             account_key='<key goes here>'\n",
    "                                            )\n",
    "\n",
    "# Help from: https://docs.microsoft.com/en-us/azure/machine-learning/service/how-to-access-data\n"
   ]
  },
  {
   "cell_type": "code",
   "execution_count": null,
   "metadata": {},
   "outputs": [],
   "source": []
  }
 ],
 "metadata": {
  "kernelspec": {
   "display_name": "allennlp",
   "language": "python",
   "name": "allennlp"
  },
  "language_info": {
   "codemirror_mode": {
    "name": "ipython",
    "version": 3
   },
   "file_extension": ".py",
   "mimetype": "text/x-python",
   "name": "python",
   "nbconvert_exporter": "python",
   "pygments_lexer": "ipython3",
   "version": "3.6.8"
  }
 },
 "nbformat": 4,
 "nbformat_minor": 2
}
